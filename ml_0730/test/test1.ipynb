{
 "cells": [
  {
   "cell_type": "code",
   "execution_count": 2,
   "id": "fcdc3896",
   "metadata": {},
   "outputs": [
    {
     "data": {
      "text/plain": [
       "hello world"
      ]
     },
     "metadata": {},
     "output_type": "display_data"
    }
   ],
   "source": [
    "print(\"hello world\")"
   ]
  },
  {
   "cell_type": "code",
   "execution_count": 3,
   "id": "51eee3ae",
   "metadata": {},
   "outputs": [
    {
     "data": {
      "text/plain": [
       "[FileInfo(path='dbfs:/databricks-datasets/COVID/', name='COVID/', size=0, modificationTime=1753883572741),\n",
       " FileInfo(path='dbfs:/databricks-datasets/README.md', name='README.md', size=976, modificationTime=1532468253000),\n",
       " FileInfo(path='dbfs:/databricks-datasets/Rdatasets/', name='Rdatasets/', size=0, modificationTime=1753883572741),\n",
       " FileInfo(path='dbfs:/databricks-datasets/SPARK_README.md', name='SPARK_README.md', size=3359, modificationTime=1455043490000),\n",
       " FileInfo(path='dbfs:/databricks-datasets/adult/', name='adult/', size=0, modificationTime=1753883572741),\n",
       " FileInfo(path='dbfs:/databricks-datasets/airlines/', name='airlines/', size=0, modificationTime=1753883572741),\n",
       " FileInfo(path='dbfs:/databricks-datasets/amazon/', name='amazon/', size=0, modificationTime=1753883572741),\n",
       " FileInfo(path='dbfs:/databricks-datasets/asa/', name='asa/', size=0, modificationTime=1753883572741),\n",
       " FileInfo(path='dbfs:/databricks-datasets/atlas_higgs/', name='atlas_higgs/', size=0, modificationTime=1753883572741),\n",
       " FileInfo(path='dbfs:/databricks-datasets/bikeSharing/', name='bikeSharing/', size=0, modificationTime=1753883572741),\n",
       " FileInfo(path='dbfs:/databricks-datasets/cctvVideos/', name='cctvVideos/', size=0, modificationTime=1753883572741),\n",
       " FileInfo(path='dbfs:/databricks-datasets/credit-card-fraud/', name='credit-card-fraud/', size=0, modificationTime=1753883572741),\n",
       " FileInfo(path='dbfs:/databricks-datasets/cs100/', name='cs100/', size=0, modificationTime=1753883572741),\n",
       " FileInfo(path='dbfs:/databricks-datasets/cs110x/', name='cs110x/', size=0, modificationTime=1753883572741),\n",
       " FileInfo(path='dbfs:/databricks-datasets/cs190/', name='cs190/', size=0, modificationTime=1753883572741),\n",
       " FileInfo(path='dbfs:/databricks-datasets/data.gov/', name='data.gov/', size=0, modificationTime=1753883572741),\n",
       " FileInfo(path='dbfs:/databricks-datasets/definitive-guide/', name='definitive-guide/', size=0, modificationTime=1753883572741),\n",
       " FileInfo(path='dbfs:/databricks-datasets/delta-sharing/', name='delta-sharing/', size=0, modificationTime=1753883572741),\n",
       " FileInfo(path='dbfs:/databricks-datasets/flights/', name='flights/', size=0, modificationTime=1753883572741),\n",
       " FileInfo(path='dbfs:/databricks-datasets/flower_photos/', name='flower_photos/', size=0, modificationTime=1753883572741),\n",
       " FileInfo(path='dbfs:/databricks-datasets/flowers/', name='flowers/', size=0, modificationTime=1753883572741),\n",
       " FileInfo(path='dbfs:/databricks-datasets/genomics/', name='genomics/', size=0, modificationTime=1753883572741),\n",
       " FileInfo(path='dbfs:/databricks-datasets/hail/', name='hail/', size=0, modificationTime=1753883572741),\n",
       " FileInfo(path='dbfs:/databricks-datasets/identifying-campaign-effectiveness/', name='identifying-campaign-effectiveness/', size=0, modificationTime=1753883572741),\n",
       " FileInfo(path='dbfs:/databricks-datasets/iot/', name='iot/', size=0, modificationTime=1753883572741),\n",
       " FileInfo(path='dbfs:/databricks-datasets/iot-stream/', name='iot-stream/', size=0, modificationTime=1753883572741),\n",
       " FileInfo(path='dbfs:/databricks-datasets/learning-spark/', name='learning-spark/', size=0, modificationTime=1753883572741),\n",
       " FileInfo(path='dbfs:/databricks-datasets/learning-spark-v2/', name='learning-spark-v2/', size=0, modificationTime=1753883572741),\n",
       " FileInfo(path='dbfs:/databricks-datasets/lending-club-loan-stats/', name='lending-club-loan-stats/', size=0, modificationTime=1753883572741),\n",
       " FileInfo(path='dbfs:/databricks-datasets/med-images/', name='med-images/', size=0, modificationTime=1753883572741),\n",
       " FileInfo(path='dbfs:/databricks-datasets/media/', name='media/', size=0, modificationTime=1753883572741),\n",
       " FileInfo(path='dbfs:/databricks-datasets/mnist-digits/', name='mnist-digits/', size=0, modificationTime=1753883572741),\n",
       " FileInfo(path='dbfs:/databricks-datasets/news20.binary/', name='news20.binary/', size=0, modificationTime=1753883572741),\n",
       " FileInfo(path='dbfs:/databricks-datasets/nyctaxi/', name='nyctaxi/', size=0, modificationTime=1753883572741),\n",
       " FileInfo(path='dbfs:/databricks-datasets/nyctaxi-with-zipcodes/', name='nyctaxi-with-zipcodes/', size=0, modificationTime=1753883572741),\n",
       " FileInfo(path='dbfs:/databricks-datasets/online_retail/', name='online_retail/', size=0, modificationTime=1753883572741),\n",
       " FileInfo(path='dbfs:/databricks-datasets/overlap-join/', name='overlap-join/', size=0, modificationTime=1753883572741),\n",
       " FileInfo(path='dbfs:/databricks-datasets/power-plant/', name='power-plant/', size=0, modificationTime=1753883572741),\n",
       " FileInfo(path='dbfs:/databricks-datasets/retail-org/', name='retail-org/', size=0, modificationTime=1753883572741),\n",
       " FileInfo(path='dbfs:/databricks-datasets/rwe/', name='rwe/', size=0, modificationTime=1753883572741),\n",
       " FileInfo(path='dbfs:/databricks-datasets/sai-summit-2019-sf/', name='sai-summit-2019-sf/', size=0, modificationTime=1753883572741),\n",
       " FileInfo(path='dbfs:/databricks-datasets/sample_logs/', name='sample_logs/', size=0, modificationTime=1753883572741),\n",
       " FileInfo(path='dbfs:/databricks-datasets/samples/', name='samples/', size=0, modificationTime=1753883572741),\n",
       " FileInfo(path='dbfs:/databricks-datasets/sfo_customer_survey/', name='sfo_customer_survey/', size=0, modificationTime=1753883572741),\n",
       " FileInfo(path='dbfs:/databricks-datasets/sms_spam_collection/', name='sms_spam_collection/', size=0, modificationTime=1753883572741),\n",
       " FileInfo(path='dbfs:/databricks-datasets/songs/', name='songs/', size=0, modificationTime=1753883572741),\n",
       " FileInfo(path='dbfs:/databricks-datasets/structured-streaming/', name='structured-streaming/', size=0, modificationTime=1753883572741),\n",
       " FileInfo(path='dbfs:/databricks-datasets/timeseries/', name='timeseries/', size=0, modificationTime=1753883572741),\n",
       " FileInfo(path='dbfs:/databricks-datasets/tpch/', name='tpch/', size=0, modificationTime=1753883572741),\n",
       " FileInfo(path='dbfs:/databricks-datasets/travel_recommendations_realtime/', name='travel_recommendations_realtime/', size=0, modificationTime=1753883572741),\n",
       " FileInfo(path='dbfs:/databricks-datasets/warmup/', name='warmup/', size=0, modificationTime=1753883572741),\n",
       " FileInfo(path='dbfs:/databricks-datasets/weather/', name='weather/', size=0, modificationTime=1753883572741),\n",
       " FileInfo(path='dbfs:/databricks-datasets/wiki/', name='wiki/', size=0, modificationTime=1753883572741),\n",
       " FileInfo(path='dbfs:/databricks-datasets/wikipedia-datasets/', name='wikipedia-datasets/', size=0, modificationTime=1753883572741),\n",
       " FileInfo(path='dbfs:/databricks-datasets/wine-quality/', name='wine-quality/', size=0, modificationTime=1753883572741)]"
      ]
     },
     "metadata": {},
     "output_type": "display_data"
    }
   ],
   "source": [
    "dbutils.fs.ls(\"/databricks-datasets/\")"
   ]
  }
 ],
 "metadata": {
  "language_info": {
   "name": "python"
  }
 },
 "nbformat": 4,
 "nbformat_minor": 5
}
